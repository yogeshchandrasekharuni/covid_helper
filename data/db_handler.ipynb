{
 "cells": [
  {
   "cell_type": "code",
   "execution_count": 1,
   "metadata": {},
   "outputs": [],
   "source": [
    "import sqlite3\n",
    "from datetime import datetime, timezone, timedelta\n",
    "from pdb import set_trace\n",
    "from pprint import pprint\n",
    "import django.db.backends.sqlite3.base"
   ]
  },
  {
   "cell_type": "code",
   "execution_count": 2,
   "metadata": {},
   "outputs": [],
   "source": [
    "class DBHandler:\n",
    "    '''\n",
    "    Handles all the querying from our database\n",
    "    '''\n",
    "    \n",
    "    def __init__(\n",
    "        self,\n",
    "        conn: sqlite3.Connection = None\n",
    "    ) -> None:\n",
    "        \n",
    "        self.conn = conn if conn else sqlite3.connect('readings.db', detect_types=sqlite3.PARSE_DECLTYPES)\n",
    "        self.cursor = self.conn.cursor()\n",
    "        \n",
    "        self.create_table()\n",
    "        \n",
    "    \n",
    "    def create_table(\n",
    "        self\n",
    "    ):\n",
    "        '''\n",
    "        Creates a table if does not already exist\n",
    "        '''\n",
    "        \n",
    "        query = '''\n",
    "        CREATE TABLE IF NOT EXISTS readings(\n",
    "            id INT PRIMARY KEY,\n",
    "            temperature FLOAT,\n",
    "            oxygen INT,\n",
    "            time TIMESTAMP\n",
    "        )\n",
    "        '''\n",
    "        with self.conn:\n",
    "            self.cursor.execute(query)\n",
    "            \n",
    "    \n",
    "    def get_latest_id(\n",
    "        self\n",
    "    ) -> int:\n",
    "        query = '''\n",
    "        SELECT MAX(id) FROM readings\n",
    "        '''\n",
    "        self.cursor.execute(query)\n",
    "        max_id = self.cursor.fetchone()[0]\n",
    "        return max_id + 1 if max_id else 1\n",
    "            \n",
    "            \n",
    "    def set_readings(\n",
    "        self,\n",
    "        temp: float,\n",
    "        o2: int,\n",
    "        curr_time: datetime\n",
    "    ) -> None:\n",
    "        '''\n",
    "        Inserts a new row with the given readings\n",
    "        '''\n",
    "        \n",
    "        curr_id = self.get_latest_id()\n",
    "        \n",
    "        query = f'''\n",
    "        INSERT INTO readings VALUES(\n",
    "            {curr_id},\n",
    "            {temp},\n",
    "            {o2},\n",
    "            '{curr_time}'\n",
    "        )\n",
    "        '''\n",
    "        \n",
    "        with self.conn:\n",
    "            self.cursor.execute(query)\n",
    "            \n",
    "    def get_n_latest_readings(\n",
    "        self,\n",
    "        n_readings: int\n",
    "    ) -> list:\n",
    "        '''\n",
    "        Retrieves n latest readings\n",
    "        '''\n",
    "        \n",
    "        n_readings = min(n_readings, self.get_latest_id())\n",
    "        \n",
    "        query = f'''\n",
    "        SELECT temperature, oxygen, time FROM readings\n",
    "        ORDER BY id DESC\n",
    "        LIMIT {n_readings}\n",
    "        '''\n",
    "        \n",
    "        self.cursor.execute(query)\n",
    "        return self.convert_to_local(self.cursor.fetchall())\n",
    "    \n",
    "    \n",
    "    def get_time(self):\n",
    "        query = '''\n",
    "        SELECT time as \"[timestamp]\" FROM readings\n",
    "        '''\n",
    "        self.cursor.execute(query)\n",
    "        return self.cursor.fetchall()\n",
    "    \n",
    "    \n",
    "    def utc_to_local(self, x):\n",
    "        return (x[0], x[1], x[2].replace(tzinfo=timezone.utc).astimezone(tz=None))\n",
    "    \n",
    "    def convert_to_local(self, outputs):\n",
    "        return list(\n",
    "            map(\n",
    "                self.utc_to_local,\n",
    "                outputs\n",
    "            )\n",
    "        )\n",
    "    \n",
    "    \n",
    "    def is_time_in_table(\n",
    "        self,\n",
    "        time: datetime\n",
    "    ) -> bool:\n",
    "        \n",
    "        query = f'''\n",
    "        SELECT EXISTS (SELECT 1 FROM readings WHERE readings.time = '{time}')\n",
    "        '''\n",
    "        self.cursor.execute(query)\n",
    "        return self.cursor.fetchone()[0]"
   ]
  },
  {
   "cell_type": "code",
   "execution_count": 3,
   "metadata": {},
   "outputs": [
    {
     "name": "stdout",
     "output_type": "stream",
     "text": [
      "[(95.0,\n",
      "  94,\n",
      "  datetime.datetime(2021, 5, 6, 0, 50, 5, tzinfo=datetime.timezone(datetime.timedelta(seconds=19800), 'India Standard Time')))]\n"
     ]
    }
   ],
   "source": [
    "if __name__ == '__main__':\n",
    "    conn = sqlite3.connect('readings.db', detect_types=sqlite3.PARSE_DECLTYPES)\n",
    "    obj = DBHandler()\n",
    "    \n",
    "    handler = DBHandler(conn)\n",
    "    #handler.set_temp_and_o2(temp = 98, o2 = 96)\n",
    "    #handler.set_temp_and_o2(temp = 96, o2 = 94)\n",
    "\n",
    "    pprint(handler.get_n_latest_readings(4))\n",
    "    \n",
    "    #pprint(handler.is_time_in_table(datetime.now()))\n",
    "    \n",
    "    #pprint(handler.get_time())"
   ]
  },
  {
   "cell_type": "markdown",
   "metadata": {},
   "source": [
    "### Known issues\n",
    "- sqlite3 cannot natively handle different timezones and leads to a ValueError while retrieving timestamps. Lazyfix: Install a heady dependency: django.db.backends.sqlite3.base. Check comments [here](https://stackoverflow.com/questions/48614488/python-sqlite-valueerror-invalid-literal-for-int-with-base-10-b5911)"
   ]
  },
  {
   "cell_type": "code",
   "execution_count": 28,
   "metadata": {},
   "outputs": [
    {
     "data": {
      "text/plain": [
       "[(1, 2, 25), (3, 4, 100)]"
      ]
     },
     "execution_count": 28,
     "metadata": {},
     "output_type": "execute_result"
    }
   ],
   "source": [
    "x = [(1, 2, 5), (3, 4, 10)]\n",
    "\n",
    "\n",
    "def foo(y):\n",
    "    return (y[0], y[1], y[2] ** 2)\n",
    "\n",
    "\n",
    "list(\n",
    "    map(\n",
    "        foo,\n",
    "        x\n",
    "    )\n",
    ")"
   ]
  }
 ],
 "metadata": {
  "kernelspec": {
   "display_name": "Python 3",
   "language": "python",
   "name": "python3"
  },
  "language_info": {
   "codemirror_mode": {
    "name": "ipython",
    "version": 3
   },
   "file_extension": ".py",
   "mimetype": "text/x-python",
   "name": "python",
   "nbconvert_exporter": "python",
   "pygments_lexer": "ipython3",
   "version": "3.8.3"
  }
 },
 "nbformat": 4,
 "nbformat_minor": 4
}
